{
 "cells": [
  {
   "cell_type": "code",
   "execution_count": null,
   "metadata": {},
   "outputs": [],
   "source": [
    "import sys, re, json\n",
    "from os import listdir,path, makedirs\n",
    "from PIL import Image\n",
    "\n",
    "with open('../elvconfig.json') as cfg_data:\n",
    "    cfg = json.load(cfg_data)\n",
    "\n",
    "####################################################################\n",
    "inputpath = cfg['inputpath']\n",
    "outputpath = cfg['outputpath']\n",
    "startpage = cfg['startpage']\n",
    "tilecols = cfg['tilecols']\n",
    "endrow = cfg['endrow']\n",
    "startrow = cfg['startrow']\n",
    "per_page = (endrow-startrow+1)*tilecols"
   ]
  },
  {
   "cell_type": "code",
   "execution_count": null,
   "metadata": {},
   "outputs": [],
   "source": [
    "pat = r'.*\\((.*\\d)\\).png'\n",
    "items = [f for f in listdir(inputpath) if re.match(pat,f)]\n",
    "items.sort(key=lambda f: int(''.join(list(filter(str.isdigit,f)))))\n",
    "images = list(map(lambda item: Image.open(path.join(inputpath,item)),items))\n",
    "\n",
    "if not path.exists(outputpath):\n",
    "    makedirs(outputpath)\n",
    "\n",
    "for im in images:\n",
    "    idx = images.index(im)\n",
    "    pagenum = int(idx//per_page) + startpage\n",
    "    filename = '_(' + str(pagenum) + ').png'\n",
    "    x_offset, y_offset = 0,0\n",
    "    \n",
    "    if idx % per_page:  \n",
    "        # for other \n",
    "        co = idx % tilecols\n",
    "        ro = int((idx // tilecols) % (per_page/tilecols))\n",
    "        x_offset = im.size[0] * co\n",
    "        y_offset = im.size[1] * ro\n",
    "        new_im.paste(im,(x_offset,y_offset))\n",
    "    else:\n",
    "        # for first image in the group\n",
    "        width, height = im.size\n",
    "        total_width = width * tilecols\n",
    "        max_height = height * int(per_page/tilecols)\n",
    "        new_im = Image.new(mode='RGB', size=(total_width, max_height))\n",
    "        new_im.paste(im,(x_offset,y_offset))\n",
    "\n",
    "    if (idx % per_page) == (per_page-1):\n",
    "        new_im.save(path.join(outputpath,filename),'PNG')\n",
    "        print(idx % per_page)\n",
    "print(\"Finished\")"
   ]
  }
 ],
 "metadata": {
  "kernelspec": {
   "display_name": "Python 3",
   "language": "python",
   "name": "python3"
  },
  "language_info": {
   "codemirror_mode": {
    "name": "ipython",
    "version": 3
   },
   "file_extension": ".py",
   "mimetype": "text/x-python",
   "name": "python",
   "nbconvert_exporter": "python",
   "pygments_lexer": "ipython3",
   "version": "3.6.2"
  }
 },
 "nbformat": 4,
 "nbformat_minor": 2
}
