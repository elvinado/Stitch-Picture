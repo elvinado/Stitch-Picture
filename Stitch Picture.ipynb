{
 "cells": [
  {
   "cell_type": "code",
   "execution_count": 4,
   "metadata": {},
   "outputs": [],
   "source": [
    "import sys, re, json\n",
    "from os import listdir,path, makedirs\n",
    "from PIL import Image\n",
    "\n",
    "with open('../elvconfig.json') as cfg_data:\n",
    "    cfg = json.load(cfg_data)\n",
    "\n",
    "columns,per_page = 1,7\n",
    "\n",
    "####################################################################\n",
    "inputpath = cfg['inputpath']\n",
    "outputpath = cfg['outputpath']\n",
    "startpage = cfg['startpage']\n",
    "\n"
   ]
  },
  {
   "cell_type": "code",
   "execution_count": 1,
   "metadata": {},
   "outputs": [
    {
     "name": "stdout",
     "output_type": "stream",
     "text": [
      "6\n",
      "Finished\n"
     ]
    }
   ],
   "source": [
    "pat = r'.*\\((.*\\d)\\).png'\n",
    "items = [f for f in listdir(inputpath) if re.match(pat,f)]\n",
    "items.sort(key=lambda f: int(''.join(list(filter(str.isdigit,f)))))\n",
    "images = list(map(lambda item: Image.open(inputpath + item),items))\n",
    "\n",
    "if not path.exists(outputpath):\n",
    "    makedirs(outputpath)\n",
    "\n",
    "#new_im = Image.new(mode='RGB', size=(total_width, max_height))\n",
    "for im in images:\n",
    "    idx = images.index(im)\n",
    "    pagenum = int(idx//per_page) + startpage\n",
    "    filename = '_(' + str(pagenum) + ').png'\n",
    "    x_offset, y_offset = 0,0\n",
    "    \n",
    "    if idx % per_page:  \n",
    "        #block for other \n",
    "        co = idx % columns\n",
    "        \n",
    "        #ro = int(idx%(per_page/columns))\n",
    "        ro = int((idx // columns) % (per_page/columns))\n",
    "        \n",
    "        x_offset = im.size[0] * co\n",
    "        y_offset = im.size[1] * ro\n",
    "        \n",
    "        new_im.paste(im,(x_offset,y_offset))\n",
    "    else:\n",
    "        #block whereby the first image in the group\n",
    "\n",
    "        width, height = im.size\n",
    "        total_width = width * columns\n",
    "        max_height = height * int(per_page/columns)\n",
    "        new_im = Image.new(mode='RGB', size=(total_width, max_height))\n",
    "        #print('first')\n",
    "        new_im.paste(im,(x_offset,y_offset))\n",
    "    #print(\"IND:\",idx, \"X:\",x_offset,\"Y:\",y_offset)\n",
    "    if (idx % per_page) == (per_page-1):\n",
    "        new_im.save(path.join(outputpath,filename),'PNG')\n",
    "        print(idx % per_page)\n",
    "print(\"Finished\")"
   ]
  }
 ],
 "metadata": {
  "kernelspec": {
   "display_name": "Python 3",
   "language": "python",
   "name": "python3"
  },
  "language_info": {
   "codemirror_mode": {
    "name": "ipython",
    "version": 3
   },
   "file_extension": ".py",
   "mimetype": "text/x-python",
   "name": "python",
   "nbconvert_exporter": "python",
   "pygments_lexer": "ipython3",
   "version": "3.6.2"
  }
 },
 "nbformat": 4,
 "nbformat_minor": 2
}
